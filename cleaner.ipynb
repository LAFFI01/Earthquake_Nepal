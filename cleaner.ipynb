{
 "cells": [
  {
   "cell_type": "code",
   "execution_count": 46,
   "id": "83a5e36b",
   "metadata": {},
   "outputs": [],
   "source": [
    "# Import necessary libraries\n",
    "import pandas as pd\n",
    "import numpy as np\n",
    "import re\n"
   ]
  },
  {
   "cell_type": "code",
   "execution_count": 47,
   "id": "67b81e79",
   "metadata": {},
   "outputs": [],
   "source": [
    "# Load the raw earthquake data CSV file\n",
    "df = pd.read_csv('earthquakes_nepal_0.csv')\n"
   ]
  },
  {
   "cell_type": "code",
   "execution_count": 48,
   "id": "ddbb0691",
   "metadata": {},
   "outputs": [
    {
     "data": {
      "text/html": [
       "<div>\n",
       "<style scoped>\n",
       "    .dataframe tbody tr th:only-of-type {\n",
       "        vertical-align: middle;\n",
       "    }\n",
       "\n",
       "    .dataframe tbody tr th {\n",
       "        vertical-align: top;\n",
       "    }\n",
       "\n",
       "    .dataframe thead th {\n",
       "        text-align: right;\n",
       "    }\n",
       "</style>\n",
       "<table border=\"1\" class=\"dataframe\">\n",
       "  <thead>\n",
       "    <tr style=\"text-align: right;\">\n",
       "      <th></th>\n",
       "      <th>date</th>\n",
       "      <th>time</th>\n",
       "      <th>latitude</th>\n",
       "      <th>longitude</th>\n",
       "      <th>magnitude</th>\n",
       "      <th>epicenter</th>\n",
       "    </tr>\n",
       "  </thead>\n",
       "  <tbody>\n",
       "    <tr>\n",
       "      <th>0</th>\n",
       "      <td>B.S.: 2082-05-01A.D.: 2025-08-17</td>\n",
       "      <td>Local: 15:43UTC: 09:58</td>\n",
       "      <td>27.7</td>\n",
       "      <td>86.53</td>\n",
       "      <td>4.0</td>\n",
       "      <td>Ramechap</td>\n",
       "    </tr>\n",
       "    <tr>\n",
       "      <th>1</th>\n",
       "      <td>B.S.: 2081-12-21A.D.: 2025-04-04</td>\n",
       "      <td>Local: 20:10UTC: 14:25</td>\n",
       "      <td>28.96</td>\n",
       "      <td>82.12</td>\n",
       "      <td>5.5</td>\n",
       "      <td>Jajarkot*</td>\n",
       "    </tr>\n",
       "    <tr>\n",
       "      <th>2</th>\n",
       "      <td>B.S.: 2081-12-21A.D.: 2025-04-04</td>\n",
       "      <td>Local: 20:07UTC: 14:22</td>\n",
       "      <td>28.95</td>\n",
       "      <td>82.12</td>\n",
       "      <td>5.2</td>\n",
       "      <td>Jajarkot</td>\n",
       "    </tr>\n",
       "    <tr>\n",
       "      <th>3</th>\n",
       "      <td>B.S.: 2081-12-20A.D.: 2025-04-03</td>\n",
       "      <td>Local: 17:04UTC: 11:19</td>\n",
       "      <td>30.02</td>\n",
       "      <td>80.84</td>\n",
       "      <td>4.0</td>\n",
       "      <td>Darchula</td>\n",
       "    </tr>\n",
       "    <tr>\n",
       "      <th>4</th>\n",
       "      <td>B.S.: 2081-12-12A.D.: 2025-03-26</td>\n",
       "      <td>Local: 19:44UTC: 13:59</td>\n",
       "      <td>29.69</td>\n",
       "      <td>81.82</td>\n",
       "      <td>4.5</td>\n",
       "      <td>Humla</td>\n",
       "    </tr>\n",
       "  </tbody>\n",
       "</table>\n",
       "</div>"
      ],
      "text/plain": [
       "                               date                    time latitude  \\\n",
       "0  B.S.: 2082-05-01A.D.: 2025-08-17  Local: 15:43UTC: 09:58     27.7   \n",
       "1  B.S.: 2081-12-21A.D.: 2025-04-04  Local: 20:10UTC: 14:25    28.96   \n",
       "2  B.S.: 2081-12-21A.D.: 2025-04-04  Local: 20:07UTC: 14:22    28.95   \n",
       "3  B.S.: 2081-12-20A.D.: 2025-04-03  Local: 17:04UTC: 11:19    30.02   \n",
       "4  B.S.: 2081-12-12A.D.: 2025-03-26  Local: 19:44UTC: 13:59    29.69   \n",
       "\n",
       "   longitude  magnitude  epicenter  \n",
       "0      86.53        4.0   Ramechap  \n",
       "1      82.12        5.5  Jajarkot*  \n",
       "2      82.12        5.2   Jajarkot  \n",
       "3      80.84        4.0   Darchula  \n",
       "4      81.82        4.5      Humla  "
      ]
     },
     "execution_count": 48,
     "metadata": {},
     "output_type": "execute_result"
    }
   ],
   "source": [
    "# Display the first few rows of the DataFrame\n",
    "df.head()\n"
   ]
  },
  {
   "cell_type": "code",
   "execution_count": 49,
   "id": "4c630830",
   "metadata": {},
   "outputs": [
    {
     "name": "stdout",
     "output_type": "stream",
     "text": [
      "<class 'pandas.core.frame.DataFrame'>\n",
      "RangeIndex: 1317 entries, 0 to 1316\n",
      "Data columns (total 6 columns):\n",
      " #   Column     Non-Null Count  Dtype  \n",
      "---  ------     --------------  -----  \n",
      " 0   date       1257 non-null   object \n",
      " 1   time       1257 non-null   object \n",
      " 2   latitude   1257 non-null   object \n",
      " 3   longitude  1257 non-null   float64\n",
      " 4   magnitude  1257 non-null   float64\n",
      " 5   epicenter  1257 non-null   object \n",
      "dtypes: float64(2), object(4)\n",
      "memory usage: 61.9+ KB\n"
     ]
    }
   ],
   "source": [
    "# Show info about DataFrame columns and data types\n",
    "df.info()\n"
   ]
  },
  {
   "cell_type": "code",
   "execution_count": 50,
   "id": "c8becd67",
   "metadata": {},
   "outputs": [
    {
     "data": {
      "text/plain": [
       "(1317, 6)"
      ]
     },
     "execution_count": 50,
     "metadata": {},
     "output_type": "execute_result"
    }
   ],
   "source": [
    "# Show the shape (rows, columns) of the DataFrame\n",
    "df.shape\n"
   ]
  },
  {
   "cell_type": "code",
   "execution_count": 51,
   "id": "e618bada",
   "metadata": {},
   "outputs": [
    {
     "data": {
      "text/plain": [
       "date         60\n",
       "time         60\n",
       "latitude     60\n",
       "longitude    60\n",
       "magnitude    60\n",
       "epicenter    60\n",
       "dtype: int64"
      ]
     },
     "execution_count": 51,
     "metadata": {},
     "output_type": "execute_result"
    }
   ],
   "source": [
    "# Count missing values in each column\n",
    "df.isna().sum()\n"
   ]
  },
  {
   "cell_type": "code",
   "execution_count": 52,
   "id": "17588894",
   "metadata": {},
   "outputs": [],
   "source": [
    "# Drop rows where all values are missing\n",
    "df.dropna(how='all', inplace=True)\n"
   ]
  },
  {
   "cell_type": "code",
   "execution_count": 53,
   "id": "6152c55a",
   "metadata": {},
   "outputs": [
    {
     "data": {
      "text/plain": [
       "date         0\n",
       "time         0\n",
       "latitude     0\n",
       "longitude    0\n",
       "magnitude    0\n",
       "epicenter    0\n",
       "dtype: int64"
      ]
     },
     "execution_count": 53,
     "metadata": {},
     "output_type": "execute_result"
    }
   ],
   "source": [
    "# Check missing values again after dropping empty rows\n",
    "df.isna().sum()\n"
   ]
  },
  {
   "cell_type": "code",
   "execution_count": 54,
   "id": "af97f5e1",
   "metadata": {},
   "outputs": [
    {
     "data": {
      "text/plain": [
       "(1257, 6)"
      ]
     },
     "execution_count": 54,
     "metadata": {},
     "output_type": "execute_result"
    }
   ],
   "source": [
    "# Check the shape after dropping empty rows\n",
    "df.shape\n"
   ]
  },
  {
   "cell_type": "code",
   "execution_count": 55,
   "id": "d14d4bfd",
   "metadata": {},
   "outputs": [
    {
     "data": {
      "text/plain": [
       "5"
      ]
     },
     "execution_count": 55,
     "metadata": {},
     "output_type": "execute_result"
    }
   ],
   "source": [
    "# Count the number of duplicate rows\n",
    "df.duplicated().sum()\n"
   ]
  },
  {
   "cell_type": "code",
   "execution_count": 56,
   "id": "cc068a79",
   "metadata": {},
   "outputs": [],
   "source": [
    "# Get all duplicate rows (for inspection)\n",
    "duplicate_rows = df[df.duplicated(keep=False)]\n"
   ]
  },
  {
   "cell_type": "code",
   "execution_count": 57,
   "id": "05804ad6",
   "metadata": {},
   "outputs": [
    {
     "name": "stdout",
     "output_type": "stream",
     "text": [
      "   index                              date                    time latitude  \\\n",
      "0     21  B.S.: 2082-05-06A.D.: 2025-08-22  Local: 23:15UTC: 17:30    27.54   \n",
      "1     42  B.S.: 2082-05-06A.D.: 2025-08-22  Local: 23:15UTC: 17:30    27.54   \n",
      "2     61  B.S.: 2080-07-05A.D.: 2023-10-22  Local: 16:03UTC: 10:18    28.03   \n",
      "3     62  B.S.: 2080-07-05A.D.: 2023-10-22  Local: 08:59UTC: 03:14    27.95   \n",
      "4     65  B.S.: 2080-07-05A.D.: 2023-10-22  Local: 16:03UTC: 10:18    28.03   \n",
      "5     68  B.S.: 2080-07-05A.D.: 2023-10-22  Local: 08:59UTC: 03:14    27.95   \n",
      "6     80  B.S.: 2080-06-16A.D.: 2023-10-03  Local: 15:45UTC: 10:00    29.58   \n",
      "7     83  B.S.: 2080-06-16A.D.: 2023-10-03  Local: 17:19UTC: 11:34    29.56   \n",
      "8     88  B.S.: 2080-06-16A.D.: 2023-10-03  Local: 17:19UTC: 11:34    29.56   \n",
      "9     89  B.S.: 2080-06-16A.D.: 2023-10-03  Local: 15:45UTC: 10:00    29.58   \n",
      "\n",
      "   longitude  magnitude      epicenter  \n",
      "0      87.14        4.4  Sankhuwasabha  \n",
      "1      87.14        4.4  Sankhuwasabha  \n",
      "2      84.83        4.4        Dhading  \n",
      "3      84.79        4.1        Dhading  \n",
      "4      84.83        4.4        Dhading  \n",
      "5      84.79        4.1        Dhading  \n",
      "6      81.10        4.1        Bajhang  \n",
      "7      81.16        5.0        Bajhang  \n",
      "8      81.16        5.0        Bajhang  \n",
      "9      81.10        4.1        Bajhang  \n"
     ]
    }
   ],
   "source": [
    "# Reset index for duplicate rows and print them\n",
    "duplicates_with_index = duplicate_rows.reset_index()\n",
    "print(duplicates_with_index)\n"
   ]
  },
  {
   "cell_type": "code",
   "execution_count": 58,
   "id": "595f3e06",
   "metadata": {},
   "outputs": [],
   "source": [
    "# Drop duplicate rows, keeping the first occurrence\n",
    "df.drop_duplicates(keep='first', inplace=True)\n"
   ]
  },
  {
   "cell_type": "code",
   "execution_count": 59,
   "id": "f93f8566",
   "metadata": {},
   "outputs": [
    {
     "data": {
      "text/plain": [
       "(1252, 6)"
      ]
     },
     "execution_count": 59,
     "metadata": {},
     "output_type": "execute_result"
    }
   ],
   "source": [
    "# Check shape after removing duplicates\n",
    "df.shape\n"
   ]
  },
  {
   "cell_type": "code",
   "execution_count": 60,
   "id": "07afe493",
   "metadata": {},
   "outputs": [
    {
     "data": {
      "text/html": [
       "<div>\n",
       "<style scoped>\n",
       "    .dataframe tbody tr th:only-of-type {\n",
       "        vertical-align: middle;\n",
       "    }\n",
       "\n",
       "    .dataframe tbody tr th {\n",
       "        vertical-align: top;\n",
       "    }\n",
       "\n",
       "    .dataframe thead th {\n",
       "        text-align: right;\n",
       "    }\n",
       "</style>\n",
       "<table border=\"1\" class=\"dataframe\">\n",
       "  <thead>\n",
       "    <tr style=\"text-align: right;\">\n",
       "      <th></th>\n",
       "      <th>date</th>\n",
       "      <th>time</th>\n",
       "      <th>latitude</th>\n",
       "      <th>longitude</th>\n",
       "      <th>magnitude</th>\n",
       "      <th>epicenter</th>\n",
       "    </tr>\n",
       "  </thead>\n",
       "  <tbody>\n",
       "  </tbody>\n",
       "</table>\n",
       "</div>"
      ],
      "text/plain": [
       "Empty DataFrame\n",
       "Columns: [date, time, latitude, longitude, magnitude, epicenter]\n",
       "Index: []"
      ]
     },
     "execution_count": 60,
     "metadata": {},
     "output_type": "execute_result"
    }
   ],
   "source": [
    "# Show rows with any missing values\n",
    "df[df.isnull().any(axis=1)]\n"
   ]
  },
  {
   "cell_type": "code",
   "execution_count": 61,
   "id": "0b5ea1f5",
   "metadata": {},
   "outputs": [],
   "source": [
    "# Manually fill a missing latitude value at index 1243\n",
    "df.loc[1243, 'latitude'] = 28.03\n"
   ]
  },
  {
   "cell_type": "code",
   "execution_count": 62,
   "id": "94fa4c9e",
   "metadata": {},
   "outputs": [
    {
     "data": {
      "text/html": [
       "<div>\n",
       "<style scoped>\n",
       "    .dataframe tbody tr th:only-of-type {\n",
       "        vertical-align: middle;\n",
       "    }\n",
       "\n",
       "    .dataframe tbody tr th {\n",
       "        vertical-align: top;\n",
       "    }\n",
       "\n",
       "    .dataframe thead th {\n",
       "        text-align: right;\n",
       "    }\n",
       "</style>\n",
       "<table border=\"1\" class=\"dataframe\">\n",
       "  <thead>\n",
       "    <tr style=\"text-align: right;\">\n",
       "      <th></th>\n",
       "      <th>date</th>\n",
       "      <th>time</th>\n",
       "      <th>latitude</th>\n",
       "      <th>longitude</th>\n",
       "      <th>magnitude</th>\n",
       "      <th>epicenter</th>\n",
       "    </tr>\n",
       "  </thead>\n",
       "  <tbody>\n",
       "  </tbody>\n",
       "</table>\n",
       "</div>"
      ],
      "text/plain": [
       "Empty DataFrame\n",
       "Columns: [date, time, latitude, longitude, magnitude, epicenter]\n",
       "Index: []"
      ]
     },
     "execution_count": 62,
     "metadata": {},
     "output_type": "execute_result"
    }
   ],
   "source": [
    "# Check again for rows with missing values\n",
    "df[df.isnull().any(axis=1)]\n"
   ]
  },
  {
   "cell_type": "code",
   "execution_count": 63,
   "id": "77d34e64",
   "metadata": {},
   "outputs": [
    {
     "data": {
      "text/plain": [
       "date          object\n",
       "time          object\n",
       "latitude      object\n",
       "longitude    float64\n",
       "magnitude    float64\n",
       "epicenter     object\n",
       "dtype: object"
      ]
     },
     "execution_count": 63,
     "metadata": {},
     "output_type": "execute_result"
    }
   ],
   "source": [
    "# Show data types of all columns\n",
    "df.dtypes\n"
   ]
  },
  {
   "cell_type": "code",
   "execution_count": 64,
   "id": "5a88cb8e",
   "metadata": {},
   "outputs": [
    {
     "data": {
      "text/plain": [
       "0        Ramechap\n",
       "1       Jajarkot*\n",
       "2        Jajarkot\n",
       "3        Darchula\n",
       "4           Humla\n",
       "          ...    \n",
       "1312      Dolakha\n",
       "1313         Mugu\n",
       "1314       Bajura\n",
       "1315      Baglung\n",
       "1316      Kalikot\n",
       "Name: epicenter, Length: 1252, dtype: object"
      ]
     },
     "execution_count": 64,
     "metadata": {},
     "output_type": "execute_result"
    }
   ],
   "source": [
    "# Display the 'epicenter' column\n",
    "df['epicenter']\n"
   ]
  },
  {
   "cell_type": "code",
   "execution_count": 65,
   "id": "5b84fe78",
   "metadata": {},
   "outputs": [],
   "source": [
    "# Clean the 'epicenter' column: remove non-letter characters and strip whitespace\n",
    "df[\"epicenter\"] = df[\"epicenter\"].apply(lambda x: re.sub(r\"[^a-zA-Z\\s]\", \"\", x).strip())\n",
    "df[\"epicenter\"] = df[\"epicenter\"].astype(str)\n"
   ]
  },
  {
   "cell_type": "code",
   "execution_count": 66,
   "id": "bea49bbb",
   "metadata": {},
   "outputs": [
    {
     "data": {
      "text/plain": [
       "0       Ramechap\n",
       "1       Jajarkot\n",
       "2       Jajarkot\n",
       "3       Darchula\n",
       "4          Humla\n",
       "          ...   \n",
       "1312     Dolakha\n",
       "1313        Mugu\n",
       "1314      Bajura\n",
       "1315     Baglung\n",
       "1316     Kalikot\n",
       "Name: epicenter, Length: 1252, dtype: object"
      ]
     },
     "execution_count": 66,
     "metadata": {},
     "output_type": "execute_result"
    }
   ],
   "source": [
    "# Display the cleaned 'epicenter' column\n",
    "df['epicenter']\n"
   ]
  },
  {
   "cell_type": "code",
   "execution_count": 67,
   "id": "f0e65422",
   "metadata": {},
   "outputs": [
    {
     "data": {
      "text/html": [
       "<div>\n",
       "<style scoped>\n",
       "    .dataframe tbody tr th:only-of-type {\n",
       "        vertical-align: middle;\n",
       "    }\n",
       "\n",
       "    .dataframe tbody tr th {\n",
       "        vertical-align: top;\n",
       "    }\n",
       "\n",
       "    .dataframe thead th {\n",
       "        text-align: right;\n",
       "    }\n",
       "</style>\n",
       "<table border=\"1\" class=\"dataframe\">\n",
       "  <thead>\n",
       "    <tr style=\"text-align: right;\">\n",
       "      <th></th>\n",
       "      <th>date</th>\n",
       "      <th>time</th>\n",
       "      <th>latitude</th>\n",
       "      <th>longitude</th>\n",
       "      <th>magnitude</th>\n",
       "      <th>epicenter</th>\n",
       "    </tr>\n",
       "  </thead>\n",
       "  <tbody>\n",
       "    <tr>\n",
       "      <th>0</th>\n",
       "      <td>B.S.: 2082-05-01A.D.: 2025-08-17</td>\n",
       "      <td>Local: 15:43UTC: 09:58</td>\n",
       "      <td>27.7</td>\n",
       "      <td>86.53</td>\n",
       "      <td>4.0</td>\n",
       "      <td>Ramechap</td>\n",
       "    </tr>\n",
       "  </tbody>\n",
       "</table>\n",
       "</div>"
      ],
      "text/plain": [
       "                               date                    time latitude  \\\n",
       "0  B.S.: 2082-05-01A.D.: 2025-08-17  Local: 15:43UTC: 09:58     27.7   \n",
       "\n",
       "   longitude  magnitude epicenter  \n",
       "0      86.53        4.0  Ramechap  "
      ]
     },
     "execution_count": 67,
     "metadata": {},
     "output_type": "execute_result"
    }
   ],
   "source": [
    "# Show the first row to check the data\n",
    "df.head(1)\n"
   ]
  },
  {
   "cell_type": "code",
   "execution_count": 68,
   "id": "30464ab9",
   "metadata": {},
   "outputs": [],
   "source": [
    "# Extract BS (Bikram Sambat) and AD (Anno Domini) dates from the 'date' column\n",
    "df['BS_date'] = df['date'].str.extract(r'B\\.S\\.: (\\d{4}-\\d{2}-\\d{2})')\n",
    "df['AD_date'] = df['date'].str.extract(r'A\\.D\\.: (\\d{4}-\\d{2}-\\d{2})')"
   ]
  },
  {
   "cell_type": "code",
   "execution_count": 69,
   "id": "c8eff483",
   "metadata": {},
   "outputs": [],
   "source": [
    "# Extract Local and UTC times from the 'time' column\n",
    "df['Local_time'] = df[\"time\"].str.extract(r\"Local:\\s*(\\d{1,2}:\\d{2})\")\n",
    "df['UTC_time'] = df[\"time\"].str.extract(r\"UTC:\\s*(\\d{1,2}:\\d{2})\")"
   ]
  },
  {
   "cell_type": "code",
   "execution_count": 70,
   "id": "50feb485",
   "metadata": {},
   "outputs": [],
   "source": [
    "# Combine date and time columns for easier analysis\n",
    "df['AD_UTC'] = df['AD_date'] + ' ' + df['UTC_time']\n",
    "df['BS_Local'] = df['BS_date'] + ' ' + df['Local_time']\n",
    "df['AD_Local'] = df['AD_date'] + ' ' + df['Local_time']"
   ]
  },
  {
   "cell_type": "code",
   "execution_count": 71,
   "id": "2a3fdcba",
   "metadata": {},
   "outputs": [
    {
     "data": {
      "text/html": [
       "<div>\n",
       "<style scoped>\n",
       "    .dataframe tbody tr th:only-of-type {\n",
       "        vertical-align: middle;\n",
       "    }\n",
       "\n",
       "    .dataframe tbody tr th {\n",
       "        vertical-align: top;\n",
       "    }\n",
       "\n",
       "    .dataframe thead th {\n",
       "        text-align: right;\n",
       "    }\n",
       "</style>\n",
       "<table border=\"1\" class=\"dataframe\">\n",
       "  <thead>\n",
       "    <tr style=\"text-align: right;\">\n",
       "      <th></th>\n",
       "      <th>date</th>\n",
       "      <th>time</th>\n",
       "      <th>latitude</th>\n",
       "      <th>longitude</th>\n",
       "      <th>magnitude</th>\n",
       "      <th>epicenter</th>\n",
       "      <th>BS_date</th>\n",
       "      <th>AD_date</th>\n",
       "      <th>Local_time</th>\n",
       "      <th>UTC_time</th>\n",
       "      <th>AD_UTC</th>\n",
       "      <th>BS_Local</th>\n",
       "      <th>AD_Local</th>\n",
       "    </tr>\n",
       "  </thead>\n",
       "  <tbody>\n",
       "    <tr>\n",
       "      <th>1056</th>\n",
       "      <td>B.S.: 2064-11-19A.D.: 2008-03-02</td>\n",
       "      <td>Local: 19:59UTC: 14:14</td>\n",
       "      <td>29.69</td>\n",
       "      <td>81.76</td>\n",
       "      <td>4.4</td>\n",
       "      <td>Humla</td>\n",
       "      <td>2064-11-19</td>\n",
       "      <td>2008-03-02</td>\n",
       "      <td>19:59</td>\n",
       "      <td>14:14</td>\n",
       "      <td>2008-03-02 14:14</td>\n",
       "      <td>2064-11-19 19:59</td>\n",
       "      <td>2008-03-02 19:59</td>\n",
       "    </tr>\n",
       "    <tr>\n",
       "      <th>765</th>\n",
       "      <td>B.S.: 2072-01-15A.D.: 2015-04-28</td>\n",
       "      <td>Local: 10:48UTC: 05:03</td>\n",
       "      <td>27.88</td>\n",
       "      <td>85.88</td>\n",
       "      <td>4.2</td>\n",
       "      <td>Sindhupalchowk</td>\n",
       "      <td>2072-01-15</td>\n",
       "      <td>2015-04-28</td>\n",
       "      <td>10:48</td>\n",
       "      <td>05:03</td>\n",
       "      <td>2015-04-28 05:03</td>\n",
       "      <td>2072-01-15 10:48</td>\n",
       "      <td>2015-04-28 10:48</td>\n",
       "    </tr>\n",
       "  </tbody>\n",
       "</table>\n",
       "</div>"
      ],
      "text/plain": [
       "                                  date                    time latitude  \\\n",
       "1056  B.S.: 2064-11-19A.D.: 2008-03-02  Local: 19:59UTC: 14:14    29.69   \n",
       "765   B.S.: 2072-01-15A.D.: 2015-04-28  Local: 10:48UTC: 05:03    27.88   \n",
       "\n",
       "      longitude  magnitude       epicenter     BS_date     AD_date Local_time  \\\n",
       "1056      81.76        4.4           Humla  2064-11-19  2008-03-02      19:59   \n",
       "765       85.88        4.2  Sindhupalchowk  2072-01-15  2015-04-28      10:48   \n",
       "\n",
       "     UTC_time            AD_UTC          BS_Local          AD_Local  \n",
       "1056    14:14  2008-03-02 14:14  2064-11-19 19:59  2008-03-02 19:59  \n",
       "765     05:03  2015-04-28 05:03  2072-01-15 10:48  2015-04-28 10:48  "
      ]
     },
     "execution_count": 71,
     "metadata": {},
     "output_type": "execute_result"
    }
   ],
   "source": [
    "# Show a random sample of 2 rows to check the new columns\n",
    "df.sample(2)\n"
   ]
  },
  {
   "cell_type": "code",
   "execution_count": 73,
   "id": "b96fb354",
   "metadata": {},
   "outputs": [
    {
     "data": {
      "text/plain": [
       "(1252, 13)"
      ]
     },
     "execution_count": 73,
     "metadata": {},
     "output_type": "execute_result"
    }
   ],
   "source": [
    "# Show the shape of the DataFrame after all cleaning steps\n",
    "df.shape\n"
   ]
  },
  {
   "cell_type": "code",
   "execution_count": 74,
   "id": "d9b29723",
   "metadata": {},
   "outputs": [
    {
     "name": "stdout",
     "output_type": "stream",
     "text": [
      "   index                              date                    time latitude  \\\n",
      "0    230  B.S.: 2076-09-27A.D.: 2020-01-12  Local: 20:19UTC: 14:34    29.58   \n",
      "1    232  B.S.: 2076-09-27A.D.: 2020-01-12  Local: 20:19UTC: 14:34    29.58   \n",
      "\n",
      "   longitude  magnitude epicenter     BS_date     AD_date Local_time UTC_time  \\\n",
      "0      81.71        4.5    Bajura  2076-09-27  2020-01-12      20:19    14:34   \n",
      "1      81.71        4.5    Bajura  2076-09-27  2020-01-12      20:19    14:34   \n",
      "\n",
      "             AD_UTC          BS_Local          AD_Local  \n",
      "0  2020-01-12 14:34  2076-09-27 20:19  2020-01-12 20:19  \n",
      "1  2020-01-12 14:34  2076-09-27 20:19  2020-01-12 20:19  \n"
     ]
    }
   ],
   "source": [
    "# Check for duplicate rows again and print them (for verification)\n",
    "duplicate_rows = df[df.duplicated(keep=False)]\n",
    "duplicates_with_index = duplicate_rows.reset_index()\n",
    "print(duplicates_with_index)\n"
   ]
  },
  {
   "cell_type": "code",
   "execution_count": 75,
   "id": "99595169",
   "metadata": {},
   "outputs": [],
   "source": [
    "# Drop any remaining duplicate rows\n",
    "df.drop_duplicates(inplace=True)\n"
   ]
  },
  {
   "cell_type": "code",
   "execution_count": 76,
   "id": "9ee1810b",
   "metadata": {},
   "outputs": [
    {
     "name": "stdout",
     "output_type": "stream",
     "text": [
      "Empty DataFrame\n",
      "Columns: [index, date, time, latitude, longitude, magnitude, epicenter, BS_date, AD_date, Local_time, UTC_time, AD_UTC, BS_Local, AD_Local]\n",
      "Index: []\n"
     ]
    }
   ],
   "source": [
    "# Check for duplicate rows again and print them (final check)\n",
    "duplicate_rows = df[df.duplicated(keep=False)]\n",
    "duplicates_with_index = duplicate_rows.reset_index()\n",
    "print(duplicates_with_index)\n"
   ]
  },
  {
   "cell_type": "code",
   "execution_count": 77,
   "id": "ad2edb65",
   "metadata": {},
   "outputs": [
    {
     "name": "stdout",
     "output_type": "stream",
     "text": [
      "<class 'pandas.core.frame.DataFrame'>\n",
      "Index: 1251 entries, 0 to 1316\n",
      "Data columns (total 13 columns):\n",
      " #   Column      Non-Null Count  Dtype  \n",
      "---  ------      --------------  -----  \n",
      " 0   date        1251 non-null   object \n",
      " 1   time        1251 non-null   object \n",
      " 2   latitude    1251 non-null   object \n",
      " 3   longitude   1251 non-null   float64\n",
      " 4   magnitude   1251 non-null   float64\n",
      " 5   epicenter   1251 non-null   object \n",
      " 6   BS_date     1251 non-null   object \n",
      " 7   AD_date     1251 non-null   object \n",
      " 8   Local_time  1251 non-null   object \n",
      " 9   UTC_time    1251 non-null   object \n",
      " 10  AD_UTC      1251 non-null   object \n",
      " 11  BS_Local    1251 non-null   object \n",
      " 12  AD_Local    1251 non-null   object \n",
      "dtypes: float64(2), object(11)\n",
      "memory usage: 136.8+ KB\n"
     ]
    }
   ],
   "source": [
    "# Show DataFrame info after all cleaning steps\n",
    "df.info()\n"
   ]
  },
  {
   "cell_type": "code",
   "execution_count": 78,
   "id": "bc8345e2",
   "metadata": {},
   "outputs": [],
   "source": [
    "# Convert combined date-time strings to pandas datetime objects\n",
    "df['AD_UTC_dt'] = pd.to_datetime(df['AD_UTC'], format='%Y-%m-%d %H:%M')\n",
    "df['AD_Local_dt'] = pd.to_datetime(df['AD_Local'], format='%Y-%m-%d %H:%M')\n"
   ]
  },
  {
   "cell_type": "code",
   "execution_count": 79,
   "id": "4f9d4c37",
   "metadata": {},
   "outputs": [
    {
     "data": {
      "text/html": [
       "<div>\n",
       "<style scoped>\n",
       "    .dataframe tbody tr th:only-of-type {\n",
       "        vertical-align: middle;\n",
       "    }\n",
       "\n",
       "    .dataframe tbody tr th {\n",
       "        vertical-align: top;\n",
       "    }\n",
       "\n",
       "    .dataframe thead th {\n",
       "        text-align: right;\n",
       "    }\n",
       "</style>\n",
       "<table border=\"1\" class=\"dataframe\">\n",
       "  <thead>\n",
       "    <tr style=\"text-align: right;\">\n",
       "      <th></th>\n",
       "      <th>date</th>\n",
       "      <th>time</th>\n",
       "      <th>latitude</th>\n",
       "      <th>longitude</th>\n",
       "      <th>magnitude</th>\n",
       "      <th>epicenter</th>\n",
       "      <th>BS_date</th>\n",
       "      <th>AD_date</th>\n",
       "      <th>Local_time</th>\n",
       "      <th>UTC_time</th>\n",
       "      <th>AD_UTC</th>\n",
       "      <th>BS_Local</th>\n",
       "      <th>AD_Local</th>\n",
       "      <th>AD_UTC_dt</th>\n",
       "      <th>AD_Local_dt</th>\n",
       "    </tr>\n",
       "  </thead>\n",
       "  <tbody>\n",
       "    <tr>\n",
       "      <th>529</th>\n",
       "      <td>B.S.: 2072-03-01A.D.: 2015-06-16</td>\n",
       "      <td>Local: 21:56UTC: 16:11</td>\n",
       "      <td>27.7</td>\n",
       "      <td>86.16</td>\n",
       "      <td>4.1</td>\n",
       "      <td>Dolakha</td>\n",
       "      <td>2072-03-01</td>\n",
       "      <td>2015-06-16</td>\n",
       "      <td>21:56</td>\n",
       "      <td>16:11</td>\n",
       "      <td>2015-06-16 16:11</td>\n",
       "      <td>2072-03-01 21:56</td>\n",
       "      <td>2015-06-16 21:56</td>\n",
       "      <td>2015-06-16 16:11:00</td>\n",
       "      <td>2015-06-16 21:56:00</td>\n",
       "    </tr>\n",
       "  </tbody>\n",
       "</table>\n",
       "</div>"
      ],
      "text/plain": [
       "                                 date                    time latitude  \\\n",
       "529  B.S.: 2072-03-01A.D.: 2015-06-16  Local: 21:56UTC: 16:11     27.7   \n",
       "\n",
       "     longitude  magnitude epicenter     BS_date     AD_date Local_time  \\\n",
       "529      86.16        4.1   Dolakha  2072-03-01  2015-06-16      21:56   \n",
       "\n",
       "    UTC_time            AD_UTC          BS_Local          AD_Local  \\\n",
       "529    16:11  2015-06-16 16:11  2072-03-01 21:56  2015-06-16 21:56   \n",
       "\n",
       "              AD_UTC_dt         AD_Local_dt  \n",
       "529 2015-06-16 16:11:00 2015-06-16 21:56:00  "
      ]
     },
     "execution_count": 79,
     "metadata": {},
     "output_type": "execute_result"
    }
   ],
   "source": [
    "# Show a random sample row to check the datetime columns\n",
    "df.sample()\n"
   ]
  },
  {
   "cell_type": "code",
   "execution_count": 80,
   "id": "2aeb3b20",
   "metadata": {},
   "outputs": [],
   "source": [
    "# Sort the DataFrame by the AD_UTC column in ascending order\n",
    "df.sort_values(by='AD_UTC', ascending=True, inplace=True)\n"
   ]
  },
  {
   "cell_type": "code",
   "execution_count": 81,
   "id": "11f2168a",
   "metadata": {},
   "outputs": [],
   "source": [
    "# Save the cleaned DataFrame to a new CSV file\n",
    "df.to_csv(\"earthquakes_nepal.csv\", index=False)"
   ]
  },
  {
   "cell_type": "code",
   "execution_count": 82,
   "id": "13dc390c",
   "metadata": {},
   "outputs": [],
   "source": [
    "df1 = pd.read_csv('earthquakes_nepal.csv')"
   ]
  },
  {
   "cell_type": "code",
   "execution_count": 83,
   "id": "d235d5f4",
   "metadata": {},
   "outputs": [],
   "source": [
    "df2 = pd.read_csv('earthquakes_nepal_data.csv')"
   ]
  },
  {
   "cell_type": "code",
   "execution_count": 84,
   "id": "01efab69",
   "metadata": {},
   "outputs": [
    {
     "data": {
      "text/plain": [
       "date            object\n",
       "time            object\n",
       "latitude       float64\n",
       "longitude      float64\n",
       "magnitude      float64\n",
       "epicenter       object\n",
       "BS_date         object\n",
       "AD_date         object\n",
       "Local_time      object\n",
       "UTC_time        object\n",
       "AD_UTC          object\n",
       "BS_Local        object\n",
       "AD_Local        object\n",
       "AD_UTC_dt       object\n",
       "AD_Local_dt     object\n",
       "dtype: object"
      ]
     },
     "execution_count": 84,
     "metadata": {},
     "output_type": "execute_result"
    }
   ],
   "source": [
    "df1.dtypes"
   ]
  },
  {
   "cell_type": "code",
   "execution_count": 85,
   "id": "202167f2",
   "metadata": {},
   "outputs": [
    {
     "data": {
      "text/plain": [
       "date            object\n",
       "time            object\n",
       "latitude       float64\n",
       "longitude      float64\n",
       "magnitude      float64\n",
       "epicenter       object\n",
       "BS_date         object\n",
       "AD_date         object\n",
       "Local_time      object\n",
       "UTC_time        object\n",
       "AD_UTC          object\n",
       "BS_Local        object\n",
       "AD_Local        object\n",
       "AD_UTC_dt       object\n",
       "AD_Local_dt     object\n",
       "dtype: object"
      ]
     },
     "execution_count": 85,
     "metadata": {},
     "output_type": "execute_result"
    }
   ],
   "source": [
    "df2.dtypes"
   ]
  }
 ],
 "metadata": {
  "kernelspec": {
   "display_name": "Python 3",
   "language": "python",
   "name": "python3"
  },
  "language_info": {
   "codemirror_mode": {
    "name": "ipython",
    "version": 3
   },
   "file_extension": ".py",
   "mimetype": "text/x-python",
   "name": "python",
   "nbconvert_exporter": "python",
   "pygments_lexer": "ipython3",
   "version": "3.12.6"
  }
 },
 "nbformat": 4,
 "nbformat_minor": 5
}
