{
 "cells": [
  {
   "cell_type": "code",
   "execution_count": 1,
   "id": "83a5e36b",
   "metadata": {},
   "outputs": [],
   "source": [
    "import pandas as pd\n",
    "import numpy as np\n",
    "import re"
   ]
  },
  {
   "cell_type": "code",
   "execution_count": 2,
   "id": "67b81e79",
   "metadata": {},
   "outputs": [],
   "source": [
    "df = pd.read_csv('earthquakes_nepal_0.csv')"
   ]
  },
  {
   "cell_type": "code",
   "execution_count": 3,
   "id": "ddbb0691",
   "metadata": {},
   "outputs": [
    {
     "data": {
      "text/html": [
       "<div>\n",
       "<style scoped>\n",
       "    .dataframe tbody tr th:only-of-type {\n",
       "        vertical-align: middle;\n",
       "    }\n",
       "\n",
       "    .dataframe tbody tr th {\n",
       "        vertical-align: top;\n",
       "    }\n",
       "\n",
       "    .dataframe thead th {\n",
       "        text-align: right;\n",
       "    }\n",
       "</style>\n",
       "<table border=\"1\" class=\"dataframe\">\n",
       "  <thead>\n",
       "    <tr style=\"text-align: right;\">\n",
       "      <th></th>\n",
       "      <th>date</th>\n",
       "      <th>time</th>\n",
       "      <th>latitude</th>\n",
       "      <th>longitude</th>\n",
       "      <th>magnitude</th>\n",
       "      <th>epicenter</th>\n",
       "    </tr>\n",
       "  </thead>\n",
       "  <tbody>\n",
       "    <tr>\n",
       "      <th>0</th>\n",
       "      <td>NaN</td>\n",
       "      <td>NaN</td>\n",
       "      <td>NaN</td>\n",
       "      <td>NaN</td>\n",
       "      <td>NaN</td>\n",
       "      <td>NaN</td>\n",
       "    </tr>\n",
       "    <tr>\n",
       "      <th>1</th>\n",
       "      <td>B.S.: 2081-12-21A.D.: 2025-04-04</td>\n",
       "      <td>Local: 20:10UTC: 14:25</td>\n",
       "      <td>28.96</td>\n",
       "      <td>82.12</td>\n",
       "      <td>5.5</td>\n",
       "      <td>Jajarkot*</td>\n",
       "    </tr>\n",
       "    <tr>\n",
       "      <th>2</th>\n",
       "      <td>B.S.: 2081-12-21A.D.: 2025-04-04</td>\n",
       "      <td>Local: 20:07UTC: 14:22</td>\n",
       "      <td>28.95</td>\n",
       "      <td>82.12</td>\n",
       "      <td>5.2</td>\n",
       "      <td>Jajarkot</td>\n",
       "    </tr>\n",
       "    <tr>\n",
       "      <th>3</th>\n",
       "      <td>B.S.: 2081-12-20A.D.: 2025-04-03</td>\n",
       "      <td>Local: 17:04UTC: 11:19</td>\n",
       "      <td>30.02</td>\n",
       "      <td>80.84</td>\n",
       "      <td>4.0</td>\n",
       "      <td>Darchula</td>\n",
       "    </tr>\n",
       "    <tr>\n",
       "      <th>4</th>\n",
       "      <td>B.S.: 2081-12-12A.D.: 2025-03-26</td>\n",
       "      <td>Local: 19:44UTC: 13:59</td>\n",
       "      <td>29.69</td>\n",
       "      <td>81.82</td>\n",
       "      <td>4.5</td>\n",
       "      <td>Humla</td>\n",
       "    </tr>\n",
       "  </tbody>\n",
       "</table>\n",
       "</div>"
      ],
      "text/plain": [
       "                               date                    time latitude  \\\n",
       "0                               NaN                     NaN      NaN   \n",
       "1  B.S.: 2081-12-21A.D.: 2025-04-04  Local: 20:10UTC: 14:25    28.96   \n",
       "2  B.S.: 2081-12-21A.D.: 2025-04-04  Local: 20:07UTC: 14:22    28.95   \n",
       "3  B.S.: 2081-12-20A.D.: 2025-04-03  Local: 17:04UTC: 11:19    30.02   \n",
       "4  B.S.: 2081-12-12A.D.: 2025-03-26  Local: 19:44UTC: 13:59    29.69   \n",
       "\n",
       "   longitude  magnitude  epicenter  \n",
       "0        NaN        NaN        NaN  \n",
       "1      82.12        5.5  Jajarkot*  \n",
       "2      82.12        5.2   Jajarkot  \n",
       "3      80.84        4.0   Darchula  \n",
       "4      81.82        4.5      Humla  "
      ]
     },
     "execution_count": 3,
     "metadata": {},
     "output_type": "execute_result"
    }
   ],
   "source": [
    "df.head()"
   ]
  },
  {
   "cell_type": "code",
   "execution_count": 4,
   "id": "4c630830",
   "metadata": {},
   "outputs": [
    {
     "name": "stdout",
     "output_type": "stream",
     "text": [
      "<class 'pandas.core.frame.DataFrame'>\n",
      "RangeIndex: 1317 entries, 0 to 1316\n",
      "Data columns (total 6 columns):\n",
      " #   Column     Non-Null Count  Dtype  \n",
      "---  ------     --------------  -----  \n",
      " 0   date       1254 non-null   object \n",
      " 1   time       1254 non-null   object \n",
      " 2   latitude   1254 non-null   object \n",
      " 3   longitude  1254 non-null   float64\n",
      " 4   magnitude  1254 non-null   float64\n",
      " 5   epicenter  1254 non-null   object \n",
      "dtypes: float64(2), object(4)\n",
      "memory usage: 61.9+ KB\n"
     ]
    }
   ],
   "source": [
    "df.info()"
   ]
  },
  {
   "cell_type": "code",
   "execution_count": 5,
   "id": "384a375c",
   "metadata": {},
   "outputs": [
    {
     "data": {
      "text/plain": [
       "<bound method DataFrame.info of                                   date                    time latitude  \\\n",
       "0                                  NaN                     NaN      NaN   \n",
       "1     B.S.: 2081-12-21A.D.: 2025-04-04  Local: 20:10UTC: 14:25    28.96   \n",
       "2     B.S.: 2081-12-21A.D.: 2025-04-04  Local: 20:07UTC: 14:22    28.95   \n",
       "3     B.S.: 2081-12-20A.D.: 2025-04-03  Local: 17:04UTC: 11:19    30.02   \n",
       "4     B.S.: 2081-12-12A.D.: 2025-03-26  Local: 19:44UTC: 13:59    29.69   \n",
       "...                                ...                     ...      ...   \n",
       "1312  B.S.: 2051-03-11A.D.: 1994-06-25  Local: 14:17UTC: 08:32    27.82   \n",
       "1313  B.S.: 2051-02-11A.D.: 1994-05-25  Local: 19:10UTC: 13:25     29.8   \n",
       "1314  B.S.: 2051-02-11A.D.: 1994-05-25   Local: 12:00UTC: 6:15    29.81   \n",
       "1315  B.S.: 2051-01-20A.D.: 1994-05-03  Local: 00:30UTC: 18:45    28.52   \n",
       "1316  B.S.: 2050-11-24A.D.: 1994-03-08  Local: 07:50UTC: 02:05    29.33   \n",
       "\n",
       "      longitude  magnitude  epicenter  \n",
       "0           NaN        NaN        NaN  \n",
       "1         82.12        5.5  Jajarkot*  \n",
       "2         82.12        5.2   Jajarkot  \n",
       "3         80.84        4.0   Darchula  \n",
       "4         81.82        4.5      Humla  \n",
       "...         ...        ...        ...  \n",
       "1312      86.19        5.1    Dolakha  \n",
       "1313      82.41        4.5       Mugu  \n",
       "1314      81.77        4.0     Bajura  \n",
       "1315      83.03        4.4    Baglung  \n",
       "1316      81.83        4.0    Kalikot  \n",
       "\n",
       "[1317 rows x 6 columns]>"
      ]
     },
     "execution_count": 5,
     "metadata": {},
     "output_type": "execute_result"
    }
   ],
   "source": [
    "df.info"
   ]
  },
  {
   "cell_type": "code",
   "execution_count": 6,
   "id": "c8becd67",
   "metadata": {},
   "outputs": [
    {
     "data": {
      "text/plain": [
       "(1317, 6)"
      ]
     },
     "execution_count": 6,
     "metadata": {},
     "output_type": "execute_result"
    }
   ],
   "source": [
    "df.shape"
   ]
  },
  {
   "cell_type": "code",
   "execution_count": 7,
   "id": "e618bada",
   "metadata": {},
   "outputs": [
    {
     "data": {
      "text/plain": [
       "date         63\n",
       "time         63\n",
       "latitude     63\n",
       "longitude    63\n",
       "magnitude    63\n",
       "epicenter    63\n",
       "dtype: int64"
      ]
     },
     "execution_count": 7,
     "metadata": {},
     "output_type": "execute_result"
    }
   ],
   "source": [
    "df.isna().sum()"
   ]
  },
  {
   "cell_type": "code",
   "execution_count": 8,
   "id": "17588894",
   "metadata": {},
   "outputs": [],
   "source": [
    "df.dropna(how='all',inplace = True)"
   ]
  },
  {
   "cell_type": "code",
   "execution_count": 9,
   "id": "6152c55a",
   "metadata": {},
   "outputs": [
    {
     "data": {
      "text/plain": [
       "date         0\n",
       "time         0\n",
       "latitude     0\n",
       "longitude    0\n",
       "magnitude    0\n",
       "epicenter    0\n",
       "dtype: int64"
      ]
     },
     "execution_count": 9,
     "metadata": {},
     "output_type": "execute_result"
    }
   ],
   "source": [
    "df.isna().sum()"
   ]
  },
  {
   "cell_type": "code",
   "execution_count": 10,
   "id": "af97f5e1",
   "metadata": {},
   "outputs": [
    {
     "data": {
      "text/plain": [
       "(1254, 6)"
      ]
     },
     "execution_count": 10,
     "metadata": {},
     "output_type": "execute_result"
    }
   ],
   "source": [
    "df.shape"
   ]
  },
  {
   "cell_type": "code",
   "execution_count": 11,
   "id": "d14d4bfd",
   "metadata": {},
   "outputs": [
    {
     "data": {
      "text/plain": [
       "4"
      ]
     },
     "execution_count": 11,
     "metadata": {},
     "output_type": "execute_result"
    }
   ],
   "source": [
    "df.duplicated().sum()"
   ]
  },
  {
   "cell_type": "code",
   "execution_count": 12,
   "id": "cc068a79",
   "metadata": {},
   "outputs": [],
   "source": [
    "duplicate_rows = df[df.duplicated(keep=False)]\n"
   ]
  },
  {
   "cell_type": "code",
   "execution_count": 13,
   "id": "05804ad6",
   "metadata": {},
   "outputs": [
    {
     "name": "stdout",
     "output_type": "stream",
     "text": [
      "   index                              date                    time latitude  \\\n",
      "0     61  B.S.: 2080-07-05A.D.: 2023-10-22  Local: 16:03UTC: 10:18    28.03   \n",
      "1     62  B.S.: 2080-07-05A.D.: 2023-10-22  Local: 08:59UTC: 03:14    27.95   \n",
      "2     65  B.S.: 2080-07-05A.D.: 2023-10-22  Local: 16:03UTC: 10:18    28.03   \n",
      "3     68  B.S.: 2080-07-05A.D.: 2023-10-22  Local: 08:59UTC: 03:14    27.95   \n",
      "4     80  B.S.: 2080-06-16A.D.: 2023-10-03  Local: 15:45UTC: 10:00    29.58   \n",
      "5     83  B.S.: 2080-06-16A.D.: 2023-10-03  Local: 17:19UTC: 11:34    29.56   \n",
      "6     88  B.S.: 2080-06-16A.D.: 2023-10-03  Local: 17:19UTC: 11:34    29.56   \n",
      "7     89  B.S.: 2080-06-16A.D.: 2023-10-03  Local: 15:45UTC: 10:00    29.58   \n",
      "\n",
      "   longitude  magnitude epicenter  \n",
      "0      84.83        4.4   Dhading  \n",
      "1      84.79        4.1   Dhading  \n",
      "2      84.83        4.4   Dhading  \n",
      "3      84.79        4.1   Dhading  \n",
      "4      81.10        4.1   Bajhang  \n",
      "5      81.16        5.0   Bajhang  \n",
      "6      81.16        5.0   Bajhang  \n",
      "7      81.10        4.1   Bajhang  \n"
     ]
    }
   ],
   "source": [
    "duplicates_with_index = duplicate_rows.reset_index()\n",
    "print(duplicates_with_index)\n"
   ]
  },
  {
   "cell_type": "code",
   "execution_count": 14,
   "id": "595f3e06",
   "metadata": {},
   "outputs": [],
   "source": [
    "df.drop_duplicates(keep='first',inplace= True)"
   ]
  },
  {
   "cell_type": "code",
   "execution_count": 15,
   "id": "f93f8566",
   "metadata": {},
   "outputs": [
    {
     "data": {
      "text/plain": [
       "(1250, 6)"
      ]
     },
     "execution_count": 15,
     "metadata": {},
     "output_type": "execute_result"
    }
   ],
   "source": [
    "df.shape"
   ]
  },
  {
   "cell_type": "code",
   "execution_count": 18,
   "id": "726af85c",
   "metadata": {},
   "outputs": [
    {
     "data": {
      "text/plain": [
       "date          object\n",
       "time          object\n",
       "latitude      object\n",
       "longitude    float64\n",
       "magnitude    float64\n",
       "epicenter     object\n",
       "dtype: object"
      ]
     },
     "execution_count": 18,
     "metadata": {},
     "output_type": "execute_result"
    }
   ],
   "source": [
    "df.dtypes"
   ]
  },
  {
   "cell_type": "code",
   "execution_count": 19,
   "id": "cd0a0048",
   "metadata": {},
   "outputs": [],
   "source": [
    "df[\"latitude\"] = pd.to_numeric(df[\"latitude\"].astype(str).str.strip(), errors=\"coerce\")\n",
    "df[\"longitude\"] = pd.to_numeric(df[\"longitude\"].astype(str).str.strip(), errors=\"coerce\")\n"
   ]
  },
  {
   "cell_type": "code",
   "execution_count": 20,
   "id": "07afe493",
   "metadata": {},
   "outputs": [
    {
     "data": {
      "text/html": [
       "<div>\n",
       "<style scoped>\n",
       "    .dataframe tbody tr th:only-of-type {\n",
       "        vertical-align: middle;\n",
       "    }\n",
       "\n",
       "    .dataframe tbody tr th {\n",
       "        vertical-align: top;\n",
       "    }\n",
       "\n",
       "    .dataframe thead th {\n",
       "        text-align: right;\n",
       "    }\n",
       "</style>\n",
       "<table border=\"1\" class=\"dataframe\">\n",
       "  <thead>\n",
       "    <tr style=\"text-align: right;\">\n",
       "      <th></th>\n",
       "      <th>date</th>\n",
       "      <th>time</th>\n",
       "      <th>latitude</th>\n",
       "      <th>longitude</th>\n",
       "      <th>magnitude</th>\n",
       "      <th>epicenter</th>\n",
       "    </tr>\n",
       "  </thead>\n",
       "  <tbody>\n",
       "    <tr>\n",
       "      <th>1243</th>\n",
       "      <td>B.S.: 2053-10-18A.D.: 1997-01-31</td>\n",
       "      <td>Local: 02:27UTC: 20:42</td>\n",
       "      <td>NaN</td>\n",
       "      <td>85.33</td>\n",
       "      <td>4.2</td>\n",
       "      <td>Rasuwa</td>\n",
       "    </tr>\n",
       "  </tbody>\n",
       "</table>\n",
       "</div>"
      ],
      "text/plain": [
       "                                  date                    time  latitude  \\\n",
       "1243  B.S.: 2053-10-18A.D.: 1997-01-31  Local: 02:27UTC: 20:42       NaN   \n",
       "\n",
       "      longitude  magnitude epicenter  \n",
       "1243      85.33        4.2    Rasuwa  "
      ]
     },
     "execution_count": 20,
     "metadata": {},
     "output_type": "execute_result"
    }
   ],
   "source": [
    "df[df.isnull().any(axis=1)]"
   ]
  },
  {
   "cell_type": "code",
   "execution_count": 21,
   "id": "0b5ea1f5",
   "metadata": {},
   "outputs": [],
   "source": [
    "df.loc[1243,'latitude'] = 28.03"
   ]
  },
  {
   "cell_type": "code",
   "execution_count": 22,
   "id": "94fa4c9e",
   "metadata": {},
   "outputs": [
    {
     "data": {
      "text/html": [
       "<div>\n",
       "<style scoped>\n",
       "    .dataframe tbody tr th:only-of-type {\n",
       "        vertical-align: middle;\n",
       "    }\n",
       "\n",
       "    .dataframe tbody tr th {\n",
       "        vertical-align: top;\n",
       "    }\n",
       "\n",
       "    .dataframe thead th {\n",
       "        text-align: right;\n",
       "    }\n",
       "</style>\n",
       "<table border=\"1\" class=\"dataframe\">\n",
       "  <thead>\n",
       "    <tr style=\"text-align: right;\">\n",
       "      <th></th>\n",
       "      <th>date</th>\n",
       "      <th>time</th>\n",
       "      <th>latitude</th>\n",
       "      <th>longitude</th>\n",
       "      <th>magnitude</th>\n",
       "      <th>epicenter</th>\n",
       "    </tr>\n",
       "  </thead>\n",
       "  <tbody>\n",
       "  </tbody>\n",
       "</table>\n",
       "</div>"
      ],
      "text/plain": [
       "Empty DataFrame\n",
       "Columns: [date, time, latitude, longitude, magnitude, epicenter]\n",
       "Index: []"
      ]
     },
     "execution_count": 22,
     "metadata": {},
     "output_type": "execute_result"
    }
   ],
   "source": [
    "df[df.isnull().any(axis=1)]"
   ]
  },
  {
   "cell_type": "code",
   "execution_count": 23,
   "id": "77d34e64",
   "metadata": {},
   "outputs": [
    {
     "data": {
      "text/plain": [
       "date          object\n",
       "time          object\n",
       "latitude     float64\n",
       "longitude    float64\n",
       "magnitude    float64\n",
       "epicenter     object\n",
       "dtype: object"
      ]
     },
     "execution_count": 23,
     "metadata": {},
     "output_type": "execute_result"
    }
   ],
   "source": [
    "df.dtypes"
   ]
  },
  {
   "cell_type": "code",
   "execution_count": 24,
   "id": "5b84fe78",
   "metadata": {},
   "outputs": [],
   "source": [
    "df[\"epicenter\"] = df[\"epicenter\"].apply(lambda x: re.sub(r\"[^a-zA-Z\\s]\", \"\", x).strip())\n",
    "df[\"epicenter\"] = df[\"epicenter\"].astype(str)\n"
   ]
  },
  {
   "cell_type": "code",
   "execution_count": 25,
   "id": "44e8880a",
   "metadata": {},
   "outputs": [
    {
     "data": {
      "text/html": [
       "<div>\n",
       "<style scoped>\n",
       "    .dataframe tbody tr th:only-of-type {\n",
       "        vertical-align: middle;\n",
       "    }\n",
       "\n",
       "    .dataframe tbody tr th {\n",
       "        vertical-align: top;\n",
       "    }\n",
       "\n",
       "    .dataframe thead th {\n",
       "        text-align: right;\n",
       "    }\n",
       "</style>\n",
       "<table border=\"1\" class=\"dataframe\">\n",
       "  <thead>\n",
       "    <tr style=\"text-align: right;\">\n",
       "      <th></th>\n",
       "      <th>date</th>\n",
       "      <th>time</th>\n",
       "      <th>latitude</th>\n",
       "      <th>longitude</th>\n",
       "      <th>magnitude</th>\n",
       "      <th>epicenter</th>\n",
       "    </tr>\n",
       "  </thead>\n",
       "  <tbody>\n",
       "  </tbody>\n",
       "</table>\n",
       "</div>"
      ],
      "text/plain": [
       "Empty DataFrame\n",
       "Columns: [date, time, latitude, longitude, magnitude, epicenter]\n",
       "Index: []"
      ]
     },
     "execution_count": 25,
     "metadata": {},
     "output_type": "execute_result"
    }
   ],
   "source": [
    "df[df.isnull().any(axis=1)]"
   ]
  },
  {
   "cell_type": "code",
   "execution_count": 26,
   "id": "8d95a9d6",
   "metadata": {},
   "outputs": [
    {
     "data": {
      "text/plain": [
       "date          object\n",
       "time          object\n",
       "latitude     float64\n",
       "longitude    float64\n",
       "magnitude    float64\n",
       "epicenter     object\n",
       "dtype: object"
      ]
     },
     "execution_count": 26,
     "metadata": {},
     "output_type": "execute_result"
    }
   ],
   "source": [
    "df.dtypes"
   ]
  },
  {
   "cell_type": "code",
   "execution_count": 27,
   "id": "30464ab9",
   "metadata": {},
   "outputs": [],
   "source": [
    "# Example: 'B.S.: 2081-12-21A.D.: 2025-04-04' → '2025-04-04'\n",
    "df[\"ad_date\"] = df[\"date\"].str.extract(r\"A\\.D\\.\\:\\s*(\\d{4}-\\d{2}-\\d{2})\")\n"
   ]
  },
  {
   "cell_type": "code",
   "execution_count": 28,
   "id": "5db1d7fd",
   "metadata": {},
   "outputs": [],
   "source": [
    "df[\"utc_time\"] = df[\"time\"].str.extract(r\"UTC:\\s*(\\d{1,2}:\\d{2})\")\n"
   ]
  },
  {
   "cell_type": "code",
   "execution_count": 29,
   "id": "780a2e04",
   "metadata": {},
   "outputs": [],
   "source": [
    "df[\"datetime\"] = pd.to_datetime(df[\"ad_date\"] + \" \" + df[\"utc_time\"], errors=\"coerce\")\n"
   ]
  },
  {
   "cell_type": "code",
   "execution_count": 30,
   "id": "05863fff",
   "metadata": {},
   "outputs": [
    {
     "data": {
      "text/html": [
       "<div>\n",
       "<style scoped>\n",
       "    .dataframe tbody tr th:only-of-type {\n",
       "        vertical-align: middle;\n",
       "    }\n",
       "\n",
       "    .dataframe tbody tr th {\n",
       "        vertical-align: top;\n",
       "    }\n",
       "\n",
       "    .dataframe thead th {\n",
       "        text-align: right;\n",
       "    }\n",
       "</style>\n",
       "<table border=\"1\" class=\"dataframe\">\n",
       "  <thead>\n",
       "    <tr style=\"text-align: right;\">\n",
       "      <th></th>\n",
       "      <th>date</th>\n",
       "      <th>time</th>\n",
       "      <th>latitude</th>\n",
       "      <th>longitude</th>\n",
       "      <th>magnitude</th>\n",
       "      <th>epicenter</th>\n",
       "      <th>ad_date</th>\n",
       "      <th>utc_time</th>\n",
       "      <th>datetime</th>\n",
       "    </tr>\n",
       "  </thead>\n",
       "  <tbody>\n",
       "    <tr>\n",
       "      <th>1296</th>\n",
       "      <td>B.S.: 2051-10-16A.D.: 1995-01-30</td>\n",
       "      <td>Local: 11:00UTC: N/A</td>\n",
       "      <td>29.38</td>\n",
       "      <td>82.3</td>\n",
       "      <td>4.0</td>\n",
       "      <td>Jumla</td>\n",
       "      <td>1995-01-30</td>\n",
       "      <td>NaN</td>\n",
       "      <td>NaT</td>\n",
       "    </tr>\n",
       "  </tbody>\n",
       "</table>\n",
       "</div>"
      ],
      "text/plain": [
       "                                  date                  time  latitude  \\\n",
       "1296  B.S.: 2051-10-16A.D.: 1995-01-30  Local: 11:00UTC: N/A     29.38   \n",
       "\n",
       "      longitude  magnitude epicenter     ad_date utc_time datetime  \n",
       "1296       82.3        4.0     Jumla  1995-01-30      NaN      NaT  "
      ]
     },
     "execution_count": 30,
     "metadata": {},
     "output_type": "execute_result"
    }
   ],
   "source": [
    "df[df.isnull().any(axis=1)]"
   ]
  },
  {
   "cell_type": "code",
   "execution_count": 31,
   "id": "b96fb354",
   "metadata": {},
   "outputs": [
    {
     "data": {
      "text/plain": [
       "(1250, 9)"
      ]
     },
     "execution_count": 31,
     "metadata": {},
     "output_type": "execute_result"
    }
   ],
   "source": [
    "df.shape"
   ]
  },
  {
   "cell_type": "code",
   "execution_count": 33,
   "id": "d9b29723",
   "metadata": {},
   "outputs": [
    {
     "name": "stdout",
     "output_type": "stream",
     "text": [
      "   index                              date                    time  latitude  \\\n",
      "0    230  B.S.: 2076-09-27A.D.: 2020-01-12  Local: 20:19UTC: 14:34     29.58   \n",
      "1    232  B.S.: 2076-09-27A.D.: 2020-01-12  Local: 20:19UTC: 14:34     29.58   \n",
      "\n",
      "   longitude  magnitude epicenter     ad_date utc_time            datetime  \n",
      "0      81.71        4.5    Bajura  2020-01-12    14:34 2020-01-12 14:34:00  \n",
      "1      81.71        4.5    Bajura  2020-01-12    14:34 2020-01-12 14:34:00  \n"
     ]
    }
   ],
   "source": [
    "duplicate_rows = df[df.duplicated(keep=False)]\n",
    "duplicates_with_index = duplicate_rows.reset_index()\n",
    "print(duplicates_with_index)"
   ]
  },
  {
   "cell_type": "code",
   "execution_count": 34,
   "id": "99595169",
   "metadata": {},
   "outputs": [],
   "source": [
    "df.drop_duplicates(inplace=True)"
   ]
  },
  {
   "cell_type": "code",
   "execution_count": null,
   "id": "9ee1810b",
   "metadata": {},
   "outputs": [
    {
     "name": "stdout",
     "output_type": "stream",
     "text": [
      "Empty DataFrame\n",
      "Columns: [index, date, time, latitude, longitude, magnitude, epicenter, ad_date, utc_time, datetime]\n",
      "Index: []\n"
     ]
    }
   ],
   "source": [
    "duplicate_rows = df[df.duplicated(keep=False)]\n",
    "duplicates_with_index = duplicate_rows.reset_index()\n",
    "print(duplicates_with_index)"
   ]
  },
  {
   "cell_type": "code",
   "execution_count": 39,
   "id": "09c18c36",
   "metadata": {},
   "outputs": [],
   "source": [
    "# Ensure datetime column is in datetime format\n",
    "df[\"datetime\"] = pd.to_datetime(df[\"datetime\"], errors=\"coerce\")"
   ]
  },
  {
   "cell_type": "code",
   "execution_count": 42,
   "id": "ad2edb65",
   "metadata": {},
   "outputs": [
    {
     "name": "stdout",
     "output_type": "stream",
     "text": [
      "<class 'pandas.core.frame.DataFrame'>\n",
      "Index: 1249 entries, 1 to 1316\n",
      "Data columns (total 9 columns):\n",
      " #   Column     Non-Null Count  Dtype         \n",
      "---  ------     --------------  -----         \n",
      " 0   date       1249 non-null   object        \n",
      " 1   time       1249 non-null   object        \n",
      " 2   latitude   1249 non-null   float64       \n",
      " 3   longitude  1249 non-null   float64       \n",
      " 4   magnitude  1249 non-null   float64       \n",
      " 5   epicenter  1249 non-null   object        \n",
      " 6   ad_date    1249 non-null   object        \n",
      " 7   utc_time   1248 non-null   object        \n",
      " 8   datetime   1248 non-null   datetime64[ns]\n",
      "dtypes: datetime64[ns](1), float64(3), object(5)\n",
      "memory usage: 97.6+ KB\n"
     ]
    }
   ],
   "source": [
    "df.info()"
   ]
  },
  {
   "cell_type": "code",
   "execution_count": 43,
   "id": "11f2168a",
   "metadata": {},
   "outputs": [],
   "source": [
    "df.to_csv(\"earthquakes_nepal.csv\", index=False)"
   ]
  }
 ],
 "metadata": {
  "kernelspec": {
   "display_name": "Python 3",
   "language": "python",
   "name": "python3"
  },
  "language_info": {
   "codemirror_mode": {
    "name": "ipython",
    "version": 3
   },
   "file_extension": ".py",
   "mimetype": "text/x-python",
   "name": "python",
   "nbconvert_exporter": "python",
   "pygments_lexer": "ipython3",
   "version": "3.12.6"
  }
 },
 "nbformat": 4,
 "nbformat_minor": 5
}
